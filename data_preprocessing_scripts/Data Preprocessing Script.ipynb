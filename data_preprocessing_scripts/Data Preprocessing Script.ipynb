{
 "cells": [
  {
   "cell_type": "markdown",
   "id": "5619ac0c-7398-4eb5-bdc0-8d338bf4a41f",
   "metadata": {},
   "source": [
    "### General Preprocessing"
   ]
  },
  {
   "cell_type": "markdown",
   "id": "8774cfd1-91b0-4d2d-b0f1-f057a5940cea",
   "metadata": {},
   "source": [
    "#### Importing Libraries"
   ]
  },
  {
   "cell_type": "code",
   "execution_count": 1,
   "id": "b0b6e81d-c547-41ae-8a2b-4f8864cbc8d4",
   "metadata": {},
   "outputs": [],
   "source": [
    "import warnings\n",
    "warnings.filterwarnings(\"ignore\")"
   ]
  },
  {
   "cell_type": "code",
   "execution_count": 2,
   "id": "27dd12eb-2975-4b6f-9010-845ae2d23c8f",
   "metadata": {},
   "outputs": [],
   "source": [
    "import pandas as pd\n",
    "from sklearn.model_selection import train_test_split\n",
    "import os"
   ]
  },
  {
   "cell_type": "code",
   "execution_count": 3,
   "id": "02ee5dbe-dc71-4839-a19b-34699133f2be",
   "metadata": {},
   "outputs": [],
   "source": [
    "def load_and_clean_data(file_path):\n",
    "    # Read the CSV file\n",
    "    df = pd.read_csv(file_path)\n",
    "    df['Date received'] = pd.to_datetime(df['Date received'])\n",
    "    \n",
    "    cols_to_consider = ['Product', 'Sub-product', 'Issue', 'Sub-issue', 'Consumer complaint narrative',\n",
    "                        'Company public response', 'Company', 'State', 'ZIP code', 'Date received']\n",
    "    \n",
    "    df_new = df[cols_to_consider]\n",
    "    \n",
    "    df_new = df_new.dropna()\n",
    "    \n",
    "    return df_new"
   ]
  },
  {
   "cell_type": "code",
   "execution_count": 4,
   "id": "413135b7-1fb8-4cef-876e-99bfd1f148ac",
   "metadata": {},
   "outputs": [],
   "source": [
    "def filter_by_years(df, years):\n",
    "    filtered_df = df[df['Date received'].dt.year.isin(years)].reset_index(drop=True)\n",
    "    return filtered_df"
   ]
  },
  {
   "cell_type": "code",
   "execution_count": 5,
   "id": "9e3f199f-0ad9-40a3-82f1-065af9efa9f5",
   "metadata": {},
   "outputs": [],
   "source": [
    "def map_product_column(df):\n",
    "    product_map = {'Credit reporting or other personal consumer reports': 'Credit Reporting',\n",
    "                   'Credit reporting, credit repair services, or other personal consumer reports': 'Credit Reporting',\n",
    "                   'Payday loan, title loan, personal loan, or advance loan': 'Loans / Mortgage',\n",
    "                   'Payday loan, title loan, or personal loan': 'Loans / Mortgage',\n",
    "                   'Student loan': 'Loans / Mortgage',\n",
    "                   'Vehicle loan or lease': 'Loans / Mortgage',\n",
    "                   'Debt collection': 'Debt collection',\n",
    "                   'Credit card or prepaid card': 'Credit/Prepaid Card',\n",
    "                   'Credit card': 'Credit/Prepaid Card',\n",
    "                   'Prepaid card': 'Credit/Prepaid Card',\n",
    "                   'Mortgage': 'Loans / Mortgage',\n",
    "                   'Checking or savings account': 'Checking or savings account'  \n",
    "                  }\n",
    "    # Map 'Product' column\n",
    "    df.loc[:,'Product'] = df['Product'].map(product_map)\n",
    "    \n",
    "    return df"
   ]
  },
  {
   "cell_type": "code",
   "execution_count": 6,
   "id": "04cf3de3-1222-44e3-9d90-91f0a942f254",
   "metadata": {},
   "outputs": [],
   "source": [
    "def preprocess_data(df):\n",
    "    # Compute complaint length\n",
    "    df['complaint length'] = df['Consumer complaint narrative'].apply(lambda x : len(x))\n",
    "\n",
    "    df = df[df['complaint length'] > 20]\n",
    "    \n",
    "    complaints_to_exclude = ['See document attached', 'See the attached documents.', 'Incorrect information on my credit report', 'incorrect information on my credit report',\n",
    "    'please see attached file','Please see documents Attached','Incorrect information on my credit report.', 'Please see attached file', 'see attached',\n",
    "    'See attached', 'SEE ATTACHED DOCUMENTS', 'See Attached', 'SEE ATTACHMENT', 'SEE ATTACHMENTS', \n",
    "    'XXXX XXXX XXXX XXXX XXXX XXXX XXXX XXXX XXXX XXXX']\n",
    "    \n",
    "    df = df[~df['Consumer complaint narrative'].isin(complaints_to_exclude)]\n",
    "    print(\"Removing complaint narrative\",df.shape)\n",
    "\n",
    "    # Select sub-issues with frequency > 500\n",
    "    sub_issues_to_consider = df['Sub-issue'].value_counts()[df['Sub-issue'].value_counts() > 500].index\n",
    "\n",
    "    # Filter DataFrame based on selected sub-issues\n",
    "    reduced_subissues = df[df['Sub-issue'].isin(sub_issues_to_consider)]\n",
    "    print(\"Removing subissue\",reduced_subissues.shape)\n",
    "    # Select sub-products with frequency > 100\n",
    "    sub_products_to_consider = reduced_subissues['Sub-product'].value_counts()[reduced_subissues['Sub-product'].value_counts() > 100].index\n",
    "\n",
    "    # Filter DataFrame based on selected sub-products\n",
    "    final_df = reduced_subissues[reduced_subissues['Sub-product'].isin(sub_products_to_consider)]\n",
    "\n",
    "    return final_df"
   ]
  },
  {
   "cell_type": "code",
   "execution_count": 7,
   "id": "03a2e0a2-75ff-4b33-b081-58e3d5c791c9",
   "metadata": {},
   "outputs": [],
   "source": [
    "def clean_narrative(df):\n",
    "# Compute complaint length\n",
    "    df['complaint length'] = df['Consumer complaint narrative'].apply(lambda x : len(x))\n",
    "\n",
    "    df = df[df['complaint length'] > 20]\n",
    "    \n",
    "    complaints_to_exclude = ['See document attached', 'See the attached documents.', 'Incorrect information on my credit report', 'incorrect information on my credit report',\n",
    "    'please see attached file','Please see documents Attached','Incorrect information on my credit report.', 'Please see attached file', 'see attached',\n",
    "    'See attached', 'SEE ATTACHED DOCUMENTS', 'See Attached', 'SEE ATTACHMENT', 'SEE ATTACHMENTS', \n",
    "    'XXXX XXXX XXXX XXXX XXXX XXXX XXXX XXXX XXXX XXXX']\n",
    "    \n",
    "    df = df[~df['Consumer complaint narrative'].isin(complaints_to_exclude)]\n",
    "    print(\"Removing complaint narrative\",df.shape)\n",
    "    return df"
   ]
  },
  {
   "cell_type": "code",
   "execution_count": 8,
   "id": "0cb28135-12d8-41fc-94a8-2968e558473b",
   "metadata": {},
   "outputs": [],
   "source": [
    "def filter_by_frequency(df):\n",
    "    # Select sub-issues with frequency > 500\n",
    "    sub_issues_to_consider = df['Sub-issue'].value_counts()[df['Sub-issue'].value_counts() > 500].index\n",
    "\n",
    "    # Filter DataFrame based on selected sub-issues\n",
    "    reduced_subissues = df[df['Sub-issue'].isin(sub_issues_to_consider)]\n",
    "    print(\"Removing subissue\",reduced_subissues.shape)\n",
    "    # Select sub-products with frequency > 100\n",
    "    sub_products_to_consider = reduced_subissues['Sub-product'].value_counts()[reduced_subissues['Sub-product'].value_counts() > 100].index\n",
    "\n",
    "    # Filter DataFrame based on selected sub-products\n",
    "    final_df = reduced_subissues[reduced_subissues['Sub-product'].isin(sub_products_to_consider)]\n",
    "\n",
    "    return final_df"
   ]
  },
  {
   "cell_type": "code",
   "execution_count": 9,
   "id": "b8a50ac3-1a5b-4c78-92bb-da14d38a679c",
   "metadata": {},
   "outputs": [],
   "source": [
    "def split_and_save_data(df,year, test_size=0.25, random_state=42, directory_to_save='./data_splits/'):\n",
    "    # Split the data into train and test sets\n",
    "    X = df['Consumer complaint narrative']\n",
    "    y = df[['Product', 'Sub-product', 'Issue', 'Sub-issue']]\n",
    "    X_train, X_test, y_train, y_test = train_test_split(X, y, stratify=y['Product'], test_size=test_size, random_state=random_state)\n",
    "\n",
    "    # Concatenate X_train and y_train, and X_test and y_test respectively\n",
    "    train_df = pd.concat([X_train, y_train], axis=1).reset_index(drop=True)\n",
    "    test_df = pd.concat([X_test, y_test], axis=1).reset_index(drop=True)\n",
    "\n",
    "    # Create directory if it doesn't exist\n",
    "    if not os.path.exists(directory_to_save):\n",
    "        os.makedirs(directory_to_save)\n",
    "        \n",
    "    # Save train and test data as CSV files with the year included in the file names\n",
    "    train_df.to_csv(os.path.join(directory_to_save, f'train-data-split_{year}.csv'), index=False)\n",
    "    test_df.to_csv(os.path.join(directory_to_save, f'test-data-split_{year}.csv'), index=False)"
   ]
  },
  {
   "cell_type": "code",
   "execution_count": 10,
   "id": "479d2872-0202-4eac-85d9-ce2b532881dd",
   "metadata": {},
   "outputs": [],
   "source": [
    "def main(file_path, year,year_name):\n",
    "    # Load and clean the data\n",
    "    df_cleaned = load_and_clean_data(file_path)\n",
    "    \n",
    "    # Filter the data by years\n",
    "    df_filtered = filter_by_years(df_cleaned, year)\n",
    "    \n",
    "    # Map the 'Product' column\n",
    "    df_mapped = map_product_column(df_filtered)\n",
    "    \n",
    "    # Preprocess the data\n",
    "    df_preprocessed = preprocess_data(df_mapped)\n",
    "    \n",
    "    # Split and save the data\n",
    "    split_and_save_data(df_preprocessed,year_name)\n"
   ]
  },
  {
   "cell_type": "code",
   "execution_count": 12,
   "id": "76932edd-4de8-47e1-a1a1-3cc4b07d6850",
   "metadata": {},
   "outputs": [
    {
     "name": "stdout",
     "output_type": "stream",
     "text": [
      "Removing complaint narrative (264968, 11)\n",
      "Removing subissue (248065, 11)\n"
     ]
    }
   ],
   "source": [
    "file_path = '../complaints.csv'\n",
    "years_to_include = [2023]\n",
    "year_name=2023\n",
    "main(file_path, years_to_include,year_name)"
   ]
  },
  {
   "cell_type": "code",
   "execution_count": 14,
   "id": "e0f9ccf4-d94b-494d-a28a-87d1fec0a3ed",
   "metadata": {},
   "outputs": [
    {
     "name": "stdout",
     "output_type": "stream",
     "text": [
      "Removing complaint narrative (254701, 11)\n",
      "Removing subissue (240079, 11)\n"
     ]
    }
   ],
   "source": [
    "file_path = '../complaints.csv'\n",
    "years_to_include = [2022,2021]\n",
    "year_name=2022\n",
    "main(file_path, years_to_include,year_name)"
   ]
  }
 ],
 "metadata": {
  "kernelspec": {
   "display_name": "Python 3 (ipykernel)",
   "language": "python",
   "name": "python3"
  },
  "language_info": {
   "codemirror_mode": {
    "name": "ipython",
    "version": 3
   },
   "file_extension": ".py",
   "mimetype": "text/x-python",
   "name": "python",
   "nbconvert_exporter": "python",
   "pygments_lexer": "ipython3",
   "version": "3.9.19"
  }
 },
 "nbformat": 4,
 "nbformat_minor": 5
}
