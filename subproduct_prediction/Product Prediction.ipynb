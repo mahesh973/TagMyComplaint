{
 "cells": [
  {
   "cell_type": "code",
   "execution_count": 2,
   "id": "efe4a075-5a1e-4b1a-912a-097d834d0096",
   "metadata": {},
   "outputs": [],
   "source": [
    "import pandas as pd"
   ]
  },
  {
   "cell_type": "code",
   "execution_count": 3,
   "id": "7f0da74b-cad8-4c98-b1dc-cc46426f978c",
   "metadata": {},
   "outputs": [
    {
     "name": "stderr",
     "output_type": "stream",
     "text": [
      "/Users/shivanimundle/opt/anaconda3/lib/python3.9/site-packages/scipy/__init__.py:146: UserWarning: A NumPy version >=1.16.5 and <1.23.0 is required for this version of SciPy (detected version 1.26.4\n",
      "  warnings.warn(f\"A NumPy version >={np_minversion} and <{np_maxversion}\"\n"
     ]
    }
   ],
   "source": [
    "from sklearn.pipeline import Pipeline\n",
    "from sklearn.feature_extraction.text import TfidfVectorizer\n",
    "from sklearn.metrics import accuracy_score, classification_report\n",
    "\n",
    "def train_product_prediction_model(training_df, validation_df, classifier_model, random_state=None):\n",
    "    # Define the pipeline\n",
    "    pipeline = Pipeline([\n",
    "        ('tfidf', TfidfVectorizer()),\n",
    "        ('classifier', classifier_model)\n",
    "    ])\n",
    "    \n",
    "    # Train the pipeline\n",
    "    pipeline.fit(training_df['Consumer complaint narrative'], training_df['Product'])\n",
    "    \n",
    "    # Make predictions on the validation set\n",
    "    y_pred = pipeline.predict(validation_df['Consumer complaint narrative'])\n",
    "    \n",
    "    # Evaluate the pipeline\n",
    "    accuracy = accuracy_score(validation_df['Product'], y_pred)\n",
    "    print(\"Accuracy:\", accuracy)\n",
    "    print(\"\\nClassification Report:\")\n",
    "    print(classification_report(validation_df['Product'], y_pred))\n",
    "    \n",
    "    return pipeline\n"
   ]
  },
  {
   "cell_type": "code",
   "execution_count": 4,
   "id": "ebdfc667-91c5-48ec-b704-f5aa3b11ef3b",
   "metadata": {},
   "outputs": [],
   "source": [
    "product_training_df= pd.read_csv('../data_preprocessing_scriptsdata_splits/train-data-balanced.csv')\n",
    "product_test_df= pd.read_csv('../data_preprocessing_scriptsdata_splits/test-data-split_2023.csv')"
   ]
  },
  {
   "cell_type": "code",
   "execution_count": 5,
   "id": "52ff94f4-9143-4638-9bdf-4204347a2895",
   "metadata": {},
   "outputs": [
    {
     "data": {
      "text/plain": [
       "(61295, 3)"
      ]
     },
     "execution_count": 5,
     "metadata": {},
     "output_type": "execute_result"
    }
   ],
   "source": [
    "product_training_df.shape"
   ]
  },
  {
   "cell_type": "code",
   "execution_count": 6,
   "id": "0d9712c5-2c66-4ee9-aad9-2033c90ede48",
   "metadata": {},
   "outputs": [
    {
     "name": "stdout",
     "output_type": "stream",
     "text": [
      "Accuracy: 0.9092598577892695\n",
      "\n",
      "Classification Report:\n",
      "                             precision    recall  f1-score   support\n",
      "\n",
      "Checking or savings account       0.73      0.96      0.83      3071\n",
      "           Credit Reporting       0.99      0.92      0.95     52924\n",
      "        Credit/Prepaid Card       0.54      0.86      0.67      2994\n",
      "            Debt collection       0.51      0.70      0.59      2345\n",
      "           Loans / Mortgage       0.62      0.64      0.63       546\n",
      "\n",
      "                   accuracy                           0.91     61880\n",
      "                  macro avg       0.68      0.81      0.73     61880\n",
      "               weighted avg       0.93      0.91      0.92     61880\n",
      "\n"
     ]
    }
   ],
   "source": [
    "\n",
    "from sklearn.ensemble import RandomForestClassifier\n",
    "\n",
    "# Define RandomForestClassifier model\n",
    "rf_classifier = RandomForestClassifier(n_estimators=200, random_state=42)\n",
    "\n",
    "# Train the product prediction model\n",
    "trained_product_model = train_product_prediction_model(product_training_df, product_test_df, rf_classifier, random_state=42)\n"
   ]
  },
  {
   "cell_type": "code",
   "execution_count": 7,
   "id": "54127a12-3e5a-4a54-8541-919887c158ec",
   "metadata": {},
   "outputs": [
    {
     "name": "stdout",
     "output_type": "stream",
     "text": [
      "Accuracy: 0.8646250808015514\n",
      "\n",
      "Classification Report:\n",
      "                             precision    recall  f1-score   support\n",
      "\n",
      "Checking or savings account       0.63      0.96      0.76      3071\n",
      "           Credit Reporting       0.98      0.89      0.93     52924\n",
      "        Credit/Prepaid Card       0.32      0.81      0.46      2994\n",
      "            Debt collection       0.56      0.36      0.44      2345\n",
      "           Loans / Mortgage       0.84      0.36      0.51       546\n",
      "\n",
      "                   accuracy                           0.86     61880\n",
      "                  macro avg       0.67      0.68      0.62     61880\n",
      "               weighted avg       0.92      0.86      0.88     61880\n",
      "\n"
     ]
    }
   ],
   "source": [
    "from sklearn.naive_bayes import MultinomialNB\n",
    "\n",
    "# Define Multinomial Naive Bayes classifier model\n",
    "nb_classifier = MultinomialNB()\n",
    "\n",
    "# Train the product prediction model with Naive Bayes classifier\n",
    "trained_nb_product_model = train_product_prediction_model(product_training_df, product_test_df, nb_classifier, random_state=42)\n"
   ]
  },
  {
   "cell_type": "code",
   "execution_count": 8,
   "id": "dab84697-14fa-4a7b-9539-a8860855fe7d",
   "metadata": {},
   "outputs": [
    {
     "name": "stdout",
     "output_type": "stream",
     "text": [
      "Accuracy: 0.9046541693600517\n",
      "\n",
      "Classification Report:\n",
      "                             precision    recall  f1-score   support\n",
      "\n",
      "Checking or savings account       0.84      0.93      0.89      3071\n",
      "           Credit Reporting       0.99      0.91      0.95     52924\n",
      "        Credit/Prepaid Card       0.58      0.90      0.71      2994\n",
      "            Debt collection       0.44      0.74      0.55      2345\n",
      "           Loans / Mortgage       0.42      0.86      0.56       546\n",
      "\n",
      "                   accuracy                           0.90     61880\n",
      "                  macro avg       0.65      0.87      0.73     61880\n",
      "               weighted avg       0.94      0.90      0.92     61880\n",
      "\n"
     ]
    }
   ],
   "source": [
    "from sklearn.linear_model import LogisticRegression\n",
    "\n",
    "# Define Logistic Regression classifier model\n",
    "logreg_classifier = LogisticRegression(max_iter=1000)\n",
    "\n",
    "#  Logistic Regression classifier\n",
    "trained_logreg_product_model = train_product_prediction_model(product_training_df, product_test_df, logreg_classifier, random_state=42)\n"
   ]
  },
  {
   "cell_type": "code",
   "execution_count": 9,
   "id": "42e1d88a-9e2e-4a2e-93a8-cb6b0a587e33",
   "metadata": {},
   "outputs": [
    {
     "name": "stdout",
     "output_type": "stream",
     "text": [
      "Accuracy: 0.9111344537815126\n",
      "\n",
      "Classification Report:\n",
      "                             precision    recall  f1-score   support\n",
      "\n",
      "Checking or savings account       0.77      0.95      0.85      3071\n",
      "           Credit Reporting       0.99      0.92      0.95     52924\n",
      "        Credit/Prepaid Card       0.59      0.89      0.71      2994\n",
      "            Debt collection       0.49      0.71      0.58      2345\n",
      "           Loans / Mortgage       0.48      0.80      0.60       546\n",
      "\n",
      "                   accuracy                           0.91     61880\n",
      "                  macro avg       0.66      0.85      0.74     61880\n",
      "               weighted avg       0.93      0.91      0.92     61880\n",
      "\n"
     ]
    }
   ],
   "source": [
    "from sklearn.ensemble import VotingClassifier\n",
    "from sklearn.linear_model import LogisticRegression\n",
    "from sklearn.ensemble import RandomForestClassifier\n",
    "from sklearn.ensemble import GradientBoostingClassifier\n",
    "\n",
    "# Initialize individual classifiers\n",
    "logreg_classifier = LogisticRegression(max_iter=1000, random_state=42)\n",
    "rf_classifier = RandomForestClassifier(n_estimators=100, random_state=42)\n",
    "gb_classifier = GradientBoostingClassifier(n_estimators=100, random_state=42)\n",
    "\n",
    "# Initialize Voting Classifier\n",
    "voting_classifier = VotingClassifier(estimators=[\n",
    "    ('logreg', logreg_classifier),\n",
    "    ('rf', rf_classifier),\n",
    "    ('gb', gb_classifier)\n",
    "], voting='hard')  # 'hard' for majority voting\n",
    "\n",
    "# Train the Voting Classifier\n",
    "trained_voting_classifier = train_product_prediction_model(product_training_df, product_test_df, voting_classifier, random_state=42)\n"
   ]
  },
  {
   "cell_type": "code",
   "execution_count": 9,
   "id": "7a85b530-a2f3-4c18-992b-33f858a7fb07",
   "metadata": {},
   "outputs": [],
   "source": [
    "import pickle\n",
    "\n",
    "with open('../subproduct_prediction/models/Product_model.pkl', 'wb') as f:\n",
    "    pickle.dump(trained_voting_classifier, f)"
   ]
  },
  {
   "cell_type": "code",
   "execution_count": 13,
   "id": "e5db48a3-ebfb-4552-976a-c32bbc518676",
   "metadata": {},
   "outputs": [
    {
     "data": {
      "text/plain": [
       "Checking or savings account    18028\n",
       "Credit/Prepaid Card            17281\n",
       "Credit Reporting               15735\n",
       "Debt collection                 7035\n",
       "Loans / Mortgage                3216\n",
       "Name: Product, dtype: int64"
      ]
     },
     "execution_count": 13,
     "metadata": {},
     "output_type": "execute_result"
    }
   ],
   "source": [
    "product_training_df.Product.value_counts()"
   ]
  }
 ],
 "metadata": {
  "kernelspec": {
   "display_name": "Python 3 (ipykernel)",
   "language": "python",
   "name": "python3"
  },
  "language_info": {
   "codemirror_mode": {
    "name": "ipython",
    "version": 3
   },
   "file_extension": ".py",
   "mimetype": "text/x-python",
   "name": "python",
   "nbconvert_exporter": "python",
   "pygments_lexer": "ipython3",
   "version": "3.9.16"
  }
 },
 "nbformat": 4,
 "nbformat_minor": 5
}
