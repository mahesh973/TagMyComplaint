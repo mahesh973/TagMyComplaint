{
 "cells": [
  {
   "cell_type": "markdown",
   "id": "299ffd7f-502b-4183-9536-4e47654baae8",
   "metadata": {},
   "source": [
    "#### Importing the necessary libraries"
   ]
  },
  {
   "cell_type": "code",
   "execution_count": 1,
   "id": "e27f22a3-f39e-4007-a048-56ccc9af915e",
   "metadata": {},
   "outputs": [],
   "source": [
    "import torch\n",
    "import pickle\n",
    "import pandas as pd\n",
    "from tqdm import tqdm\n",
    "from sklearn.pipeline import Pipeline\n",
    "from transformers import pipeline\n",
    "from sklearn.metrics import accuracy_score, precision_score"
   ]
  },
  {
   "cell_type": "markdown",
   "id": "7b6553e4-339a-4003-b6f9-4aa52d2818c0",
   "metadata": {},
   "source": [
    "#### Loading 5 product models"
   ]
  },
  {
   "cell_type": "code",
   "execution_count": 2,
   "id": "bd40a9e0-faab-4999-9ad5-f74e7ae8b272",
   "metadata": {},
   "outputs": [],
   "source": [
    "with open('models/Credit_Reporting_model.pkl', 'rb') as f:\n",
    "   trained_model_cr= pickle.load(f)\n",
    "\n",
    "with open('models/Credit_Prepaid_Card_model.pkl', 'rb') as f:\n",
    "   trained_model_cp= pickle.load(f)\n",
    "\n",
    "with open('models/Checking_saving_model.pkl', 'rb') as f:\n",
    "    trained_model_cs=pickle.load(f)\n",
    "\n",
    "with open('models/loan_model.pkl', 'rb') as f:\n",
    "   trained_model_l= pickle.load(f)\n",
    "\n",
    "with open('models/Debt_model.pkl', 'rb') as f:\n",
    "   trained_model_d= pickle.load(f)"
   ]
  },
  {
   "cell_type": "markdown",
   "id": "8dd19c5a-5e4f-457c-88b7-5efa18964a8b",
   "metadata": {},
   "source": [
    "#### Loading 17 issue models"
   ]
  },
  {
   "cell_type": "code",
   "execution_count": 3,
   "id": "3dae2131-cfa4-4887-a30a-00d6caf547e8",
   "metadata": {},
   "outputs": [],
   "source": [
    "# Path to the models and their corresponding names\n",
    "issue_model_files = {\n",
    "    'trained_model_account_operations': 'issue_models/account_operations_and_unauthorized_transaction_issues.pkl',\n",
    "    'trained_model_collect_debt': 'issue_models/attempts_to_collect_debt_not_owed.pkl',\n",
    "    'trained_model_closing_account': 'issue_models/closing_an_account.pkl',\n",
    "    'trained_model_closing_your_account': 'issue_models/closing_your_account.pkl',\n",
    "    'trained_model_credit_report': 'issue_models/credit_report_and_monitoring_issues.pkl',\n",
    "    'trained_model_lender': 'issue_models/dealing_with_your_lender_or_servicer.pkl',\n",
    "    'trained_model_disputes': 'issue_models/disputes_and_misrepresentations.pkl',\n",
    "    'trained_model_improper_use_report': 'issue_models/improper_use_of_your_report.pkl',\n",
    "    'trained_model_incorrect_info': 'issue_models/incorrect_information_on_your_report.pkl',\n",
    "    'trained_model_legal_and_threat': 'issue_models/legal_and_threat_actions.pkl',\n",
    "    'trained_model_managing_account': 'issue_models/managing_an_account.pkl',\n",
    "    'trained_model_payment_funds': 'issue_models/payment_and_funds_management.pkl',\n",
    "    'trained_model_investigation_wrt_issue': 'issue_models/problem_with_a_company\\'s_investigation_into_an_existing_issue.pkl',\n",
    "    'trained_model_investigation_wrt_problem': 'issue_models/problem_with_a_company\\'s_investigation_into_an_existing_problem.pkl',\n",
    "    'trained_model_credit_investigation_wrt_problem': 'issue_models/problem_with_a_credit_reporting_company\\'s_investigation_into_an_existing_problem.pkl',\n",
    "    'trained_model_purchase_shown': 'issue_models/problem_with_a_purchase_shown_on_your_statement.pkl',\n",
    "    'trained_model_notification_about_debt': 'issue_models/written_notification_about_debt.pkl',\n",
    "}\n",
    "\n",
    "issue_models = {}\n",
    "\n",
    "for model_name, file_path in issue_model_files.items():\n",
    "    with open(file_path, 'rb') as f:\n",
    "        issue_models[model_name] = pickle.load(f)"
   ]
  },
  {
   "cell_type": "markdown",
   "id": "bf41b143-2ff3-4a79-83a9-afcc0d352dd0",
   "metadata": {
    "jp-MarkdownHeadingCollapsed": true
   },
   "source": [
    "#### LLM to classify the product based on the narrative"
   ]
  },
  {
   "cell_type": "code",
   "execution_count": 4,
   "id": "b946427b-b259-4eb2-a40b-ed7b7e476354",
   "metadata": {},
   "outputs": [],
   "source": [
    "device = \"mps\" if torch.backends.mps.is_available() else \"cpu\"\n",
    "\n",
    "# Define the pipeline for classifying product\n",
    "product_classifier = pipeline(\"text-classification\", model=\"Mahesh9/distil-bert-fintuned-product-cfpb-complaints\",\n",
    "                              max_length = 512, truncation = True, device = device)"
   ]
  },
  {
   "cell_type": "markdown",
   "id": "0f0c40cd-f23e-4e0a-8c03-34b517a4c727",
   "metadata": {
    "jp-MarkdownHeadingCollapsed": true
   },
   "source": [
    "#### Function to choose the appropriate product model to classify the sub-product"
   ]
  },
  {
   "cell_type": "code",
   "execution_count": 5,
   "id": "619d9c58-1a83-4279-b452-63f3cb69998f",
   "metadata": {},
   "outputs": [],
   "source": [
    "# Define a function to select the appropriate subproduct prediction model based on the predicted product\n",
    "def select_subproduct_model(predicted_product):\n",
    "    if predicted_product == 'Credit Reporting' :\n",
    "        return trained_model_cr\n",
    "    elif predicted_product == 'Credit/Prepaid Card':\n",
    "        return trained_model_cp\n",
    "    elif predicted_product == 'Checking or savings account':\n",
    "        return trained_model_cs\n",
    "    elif predicted_product == 'Loans / Mortgage':\n",
    "        return trained_model_l\n",
    "    elif predicted_product == 'Debt collection':\n",
    "        return trained_model_d\n",
    "    else:\n",
    "        raise ValueError(\"Invalid predicted product category\")"
   ]
  },
  {
   "cell_type": "markdown",
   "id": "2f361468-ab6d-4d9a-a665-2c9dbce42e93",
   "metadata": {},
   "source": [
    "#### LLM to classify the issue based on the narrative"
   ]
  },
  {
   "cell_type": "code",
   "execution_count": 6,
   "id": "0a8da273-8dfb-43b8-abf9-cf06871f2763",
   "metadata": {},
   "outputs": [],
   "source": [
    "# Define the pipeline for classifying issue\n",
    "issue_classifier = pipeline(\"text-classification\", model=\"Mahesh9/distil-bert-fintuned-issues-cfpb-complaints\",\n",
    "                            max_length = 512, truncation = True, device = device)"
   ]
  },
  {
   "cell_type": "markdown",
   "id": "df05c0c0-c4cc-4287-b129-75f60dd88348",
   "metadata": {},
   "source": [
    "#### Function to choose the appropriate issue model to classify the sub-issue"
   ]
  },
  {
   "cell_type": "code",
   "execution_count": 7,
   "id": "f55a787b-ce6a-49dd-96dd-1cbfda8a68a5",
   "metadata": {},
   "outputs": [],
   "source": [
    "# Define a function to select the appropriate subissue prediction model based on the predicted issue\n",
    "def select_subissue_model(predicted_issue):\n",
    "    if predicted_issue == \"Problem with a company's investigation into an existing problem\":\n",
    "        return issue_models['trained_model_investigation_wrt_problem']\n",
    "        \n",
    "    elif predicted_issue == \"Problem with a credit reporting company's investigation into an existing problem\":\n",
    "        return issue_models['trained_model_credit_investigation_wrt_problem']\n",
    "\n",
    "    elif predicted_issue == \"Problem with a company's investigation into an existing issue\":\n",
    "        return issue_models['trained_model_investigation_wrt_issue']\n",
    "\n",
    "    elif predicted_issue == \"Problem with a purchase shown on your statement\":\n",
    "        return issue_models['trained_model_purchase_shown']\n",
    "\n",
    "    elif predicted_issue == \"Incorrect information on your report\":\n",
    "        return issue_models['trained_model_incorrect_info']\n",
    "        \n",
    "    elif predicted_issue == \"Improper use of your report\":\n",
    "        return issue_models['trained_model_improper_use_report']\n",
    "\n",
    "    elif predicted_issue == \"Account Operations and Unauthorized Transaction Issues\":\n",
    "        return issue_models['trained_model_account_operations']\n",
    "        \n",
    "    elif predicted_issue == \"Payment and Funds Management\":\n",
    "        return issue_models['trained_model_payment_funds']\n",
    "\n",
    "    elif predicted_issue == \"Managing an account\":\n",
    "        return issue_models['trained_model_managing_account']\n",
    "        \n",
    "    elif predicted_issue == \"Attempts to collect debt not owed\":\n",
    "        return issue_models['trained_model_collect_debt']\n",
    "\n",
    "    elif predicted_issue == \"Written notification about debt\":\n",
    "        return issue_models['trained_model_notification_about_debt']\n",
    "        \n",
    "    elif predicted_issue == \"Dealing with your lender or servicer\":\n",
    "        return issue_models['trained_model_lender']\n",
    "\n",
    "    elif predicted_issue == \"Disputes and Misrepresentations\":\n",
    "        return issue_models['trained_model_disputes']\n",
    "        \n",
    "    elif predicted_issue == \"Closing your account\":\n",
    "        return issue_models['trained_model_closing_your_account']\n",
    "\n",
    "    elif predicted_issue == \"Closing an account\":\n",
    "        return issue_models['trained_model_closing_account']\n",
    "        \n",
    "    elif predicted_issue == \"Credit Report and Monitoring Issues\":\n",
    "        return issue_models['trained_model_credit_report']\n",
    "\n",
    "    elif predicted_issue == \"Legal and Threat Actions\":\n",
    "        return issue_models['trained_model_legal_and_threat']\n",
    "        \n",
    "    else:\n",
    "        raise ValueError(\"Invalid predicted issue category\")"
   ]
  },
  {
   "cell_type": "markdown",
   "id": "d87974e1-1bf8-44ea-bfee-75de8e2960b4",
   "metadata": {},
   "source": [
    "#### Driver code to classify the complaint into various categories"
   ]
  },
  {
   "cell_type": "code",
   "execution_count": 8,
   "id": "dc785511-d68f-4341-a080-23f8f27eefc4",
   "metadata": {},
   "outputs": [],
   "source": [
    "def classify_complaint(narrative):\n",
    "    # Predict product category\n",
    "    predicted_product = product_classifier(narrative)[0]['label']\n",
    "    \n",
    "    # Load the appropriate subproduct prediction model\n",
    "    subproduct_model = select_subproduct_model(predicted_product)\n",
    "    # Predict subproduct category using the selected model\n",
    "    predicted_subproduct = subproduct_model.predict([narrative])[0]\n",
    "\n",
    "\n",
    "    \n",
    "    # Predict the appropriate issue category using the narrative\n",
    "    predicted_issue = issue_classifier(narrative)[0]['label']\n",
    "    \n",
    "    # Load the appropriate subissue prediction model\n",
    "    subissue_model = select_subissue_model(predicted_issue)\n",
    "    # Predict subissue category using the selected model\n",
    "    predicted_subissue = subissue_model.predict([narrative])[0]\n",
    "    \n",
    "    return {\n",
    "        \"Product\" : predicted_product,\n",
    "        \"Sub-product\" : predicted_subproduct,\n",
    "        \"Issue\" : predicted_issue,\n",
    "        \"Sub-issue\" : predicted_subissue\n",
    "    }"
   ]
  },
  {
   "cell_type": "code",
   "execution_count": 9,
   "id": "982521ea-364e-4521-889e-fe586c186701",
   "metadata": {},
   "outputs": [
    {
     "data": {
      "text/plain": [
       "{'Product': 'Credit/Prepaid Card',\n",
       " 'Sub-product': 'General-purpose credit card or charge card',\n",
       " 'Issue': \"Problem with a company's investigation into an existing problem\",\n",
       " 'Sub-issue': 'Was not notified of investigation status or results'}"
      ]
     },
     "execution_count": 9,
     "metadata": {},
     "output_type": "execute_result"
    }
   ],
   "source": [
    "narrative = \"\"\"It is absurd that I have consistently made timely payments for this account and have never been\n",
    "             overdue. I kindly request that you promptly update my account to reflect this accurately.\"\"\"\n",
    "\n",
    "classify_complaint(narrative)"
   ]
  },
  {
   "cell_type": "markdown",
   "id": "6a68ebbc-de80-4176-ac38-bfe5fd84b86c",
   "metadata": {
    "jp-MarkdownHeadingCollapsed": true
   },
   "source": [
    "#### Evaluation on external test set"
   ]
  },
  {
   "cell_type": "code",
   "execution_count": null,
   "id": "88529ef1-6ed2-41b9-a266-e550a50b831f",
   "metadata": {},
   "outputs": [],
   "source": [
    "# Load the test dataset\n",
    "test_data = pd.read_csv('../data_splits/test-data-split.csv')  \n",
    "\n",
    "# Initialize lists to store predicted and actual labels\n",
    "predicted_products = []\n",
    "predicted_subproducts = []\n",
    "predicted_issues = []\n",
    "predicted_subissues = []\n",
    "\n",
    "actual_products = test_data['Product']\n",
    "actual_subproducts = test_data['Sub-product']\n",
    "actual_issues = test_data['Issue']\n",
    "actual_subissues = test_data['Sub-issue']\n",
    "\n",
    "# Iterate over each complaint narrative in the test set\n",
    "for narrative in tqdm(test_data['Consumer complaint narrative']):\n",
    "    # Predict product and subproduct using the custom_predict function\n",
    "    prediction = classify_complaint(narrative)\n",
    "    \n",
    "    # Append predicted labels to lists\n",
    "    predicted_products.append(prediction['Product'])\n",
    "    predicted_subproducts.append(prediction['Sub-product'])\n",
    "    predicted_issues.append(prediction['Issue'])\n",
    "    predicted_subissues.append(prediction['Sub-issue'])\n",
    "    \n",
    "# Calculate accuracy and precision\n",
    "accuracy_product = accuracy_score(actual_products, predicted_products)\n",
    "precision_product = precision_score(actual_products, predicted_products, average='macro',zero_division=1)\n",
    "accuracy_subproduct = accuracy_score(actual_subproducts, predicted_subproducts)\n",
    "precision_subproduct = precision_score(actual_subproducts, predicted_subproducts, average='macro',zero_division=1)\n",
    "\n",
    "accuracy_product = accuracy_score(actual_issues, predicted_issues)\n",
    "precision_product = precision_score(actual_issues, predicted_issues, average='macro',zero_division=1)\n",
    "accuracy_subproduct = accuracy_score(actual_subissues, predicted_subissues)\n",
    "precision_subproduct = precision_score(actual_subissues, predicted_subissues, average='macro',zero_division=1)\n",
    "\n",
    "\n",
    "# Print the results\n",
    "print(\"Product Prediction Accuracy:\", accuracy_product)\n",
    "print(\"Product Prediction Precision:\", precision_product)\n",
    "\n",
    "print(\"Subproduct Prediction Accuracy:\", accuracy_subproduct)\n",
    "print(\"Subproduct Prediction Precision:\", precision_subproduct)\n",
    "\n",
    "print(\"Issue Prediction Accuracy:\", accuracy_issue)\n",
    "print(\"Issue Prediction Precision:\", precision_issue)\n",
    "\n",
    "print(\"Sub-issue Prediction Accuracy:\", accuracy_issue)\n",
    "print(\"Sub-issue Prediction Precision:\", precision_issue)"
   ]
  }
 ],
 "metadata": {
  "kernelspec": {
   "display_name": "Python 3 (ipykernel)",
   "language": "python",
   "name": "python3"
  },
  "language_info": {
   "codemirror_mode": {
    "name": "ipython",
    "version": 3
   },
   "file_extension": ".py",
   "mimetype": "text/x-python",
   "name": "python",
   "nbconvert_exporter": "python",
   "pygments_lexer": "ipython3",
   "version": "3.9.19"
  }
 },
 "nbformat": 4,
 "nbformat_minor": 5
}
