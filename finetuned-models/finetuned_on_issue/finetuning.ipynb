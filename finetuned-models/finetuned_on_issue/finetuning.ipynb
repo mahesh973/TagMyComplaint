{
 "cells": [
  {
   "cell_type": "markdown",
   "id": "bdfac56e-1b34-4a60-b8e7-d198ddc18433",
   "metadata": {},
   "source": [
    "#### Loading the dataset and necessary libraries"
   ]
  },
  {
   "cell_type": "code",
   "execution_count": 1,
   "id": "844df125-fd09-4a5c-90b3-dcf06f8ad136",
   "metadata": {},
   "outputs": [
    {
     "data": {
      "application/vnd.jupyter.widget-view+json": {
       "model_id": "60f529c2b56f4a8a839b5e6304d1de59",
       "version_major": 2,
       "version_minor": 0
      },
      "text/plain": [
       "VBox(children=(HTML(value='<center> <img\\nsrc=https://huggingface.co/front/assets/huggingface_logo-noborder.sv…"
      ]
     },
     "metadata": {},
     "output_type": "display_data"
    }
   ],
   "source": [
    "from huggingface_hub import notebook_login\n",
    "\n",
    "notebook_login()"
   ]
  },
  {
   "cell_type": "code",
   "execution_count": 2,
   "id": "22974cf4-0191-4c90-a7dd-c12ccaba510a",
   "metadata": {},
   "outputs": [],
   "source": [
    "from datasets import load_dataset, load_metric\n",
    "from transformers import AutoTokenizer, AutoModelForSequenceClassification, TrainingArguments, Trainer, DataCollatorWithPadding\n",
    "import numpy as np\n",
    "\n",
    "# Loading the dataset\n",
    "data_files = {\"train\": \"../../data_splits/train-data-split.csv\", \"test\": \"../../data_splits/test-data-split.csv\"}\n",
    "dataset = load_dataset(\"csv\", data_files=data_files)"
   ]
  },
  {
   "cell_type": "code",
   "execution_count": 3,
   "id": "bea652f0-97e0-4247-97db-47c2669348c2",
   "metadata": {},
   "outputs": [
    {
     "data": {
      "text/plain": [
       "DatasetDict({\n",
       "    train: Dataset({\n",
       "        features: ['Consumer complaint narrative', 'Product', 'Sub-product', 'Issue', 'Sub-issue'],\n",
       "        num_rows: 185637\n",
       "    })\n",
       "    test: Dataset({\n",
       "        features: ['Consumer complaint narrative', 'Product', 'Sub-product', 'Issue', 'Sub-issue'],\n",
       "        num_rows: 61880\n",
       "    })\n",
       "})"
      ]
     },
     "execution_count": 3,
     "metadata": {},
     "output_type": "execute_result"
    }
   ],
   "source": [
    "dataset"
   ]
  },
  {
   "cell_type": "markdown",
   "id": "c65c30cc-6a98-4a22-b6fa-6568cf15ab14",
   "metadata": {},
   "source": [
    "#### Preparing the train and test set"
   ]
  },
  {
   "cell_type": "code",
   "execution_count": 4,
   "id": "75c5eb50-f0e4-4c4b-946d-a51f5ebd62dc",
   "metadata": {},
   "outputs": [],
   "source": [
    "issue_categories = np.unique(dataset['train']['Issue'])\n",
    "issue_mapping = {k : i for i,k in enumerate(issue_categories)}\n",
    "\n",
    "# Encoding the labels\n",
    "def encode_categories(batch):\n",
    "    return {\"labels\": [issue_mapping[category] for category in batch['Issue']]}\n",
    "    \n",
    "dataset['train'] = dataset['train'].map(encode_categories , batched=True)\n",
    "dataset['test'] = dataset['test'].map(encode_categories, batched=True)"
   ]
  },
  {
   "cell_type": "code",
   "execution_count": 5,
   "id": "ca2f6927-e2b7-4112-a1bb-f0843abcb952",
   "metadata": {},
   "outputs": [
    {
     "data": {
      "text/plain": [
       "DatasetDict({\n",
       "    train: Dataset({\n",
       "        features: ['Consumer complaint narrative', 'Product', 'Sub-product', 'Issue', 'Sub-issue', 'labels'],\n",
       "        num_rows: 185637\n",
       "    })\n",
       "    test: Dataset({\n",
       "        features: ['Consumer complaint narrative', 'Product', 'Sub-product', 'Issue', 'Sub-issue', 'labels'],\n",
       "        num_rows: 61880\n",
       "    })\n",
       "})"
      ]
     },
     "execution_count": 5,
     "metadata": {},
     "output_type": "execute_result"
    }
   ],
   "source": [
    "dataset"
   ]
  },
  {
   "cell_type": "markdown",
   "id": "a8c9a62a-9d31-4786-8aac-d34a0b626b7d",
   "metadata": {},
   "source": [
    "#### Loading the tokenizer"
   ]
  },
  {
   "cell_type": "code",
   "execution_count": 6,
   "id": "4a50b127-0f66-4eb8-a548-5db862c4b099",
   "metadata": {},
   "outputs": [],
   "source": [
    "from transformers import AutoTokenizer\n",
    "\n",
    "tokenizer = AutoTokenizer.from_pretrained(\"distilbert/distilbert-base-uncased\")"
   ]
  },
  {
   "cell_type": "code",
   "execution_count": 7,
   "id": "659cceef-cfc8-4d34-ab46-ce4e372e9f91",
   "metadata": {},
   "outputs": [],
   "source": [
    "def preprocess_function(examples):\n",
    "    return tokenizer(examples[\"Consumer complaint narrative\"], truncation=True, padding=\"max_length\", max_length=512)"
   ]
  },
  {
   "cell_type": "markdown",
   "id": "5b83db2a-7147-4aea-9cb2-c2c3add58246",
   "metadata": {},
   "source": [
    "#### Mapping into batches"
   ]
  },
  {
   "cell_type": "code",
   "execution_count": 8,
   "id": "1983f660-2ec8-4e0b-900b-f34d94cd902d",
   "metadata": {},
   "outputs": [
    {
     "data": {
      "application/vnd.jupyter.widget-view+json": {
       "model_id": "a72056fa37f84f668ee0576609044891",
       "version_major": 2,
       "version_minor": 0
      },
      "text/plain": [
       "Map:   0%|          | 0/61880 [00:00<?, ? examples/s]"
      ]
     },
     "metadata": {},
     "output_type": "display_data"
    }
   ],
   "source": [
    "tokenized_data = dataset.map(preprocess_function, batched=True, remove_columns=['Product', 'Sub-product','Issue', 'Sub-issue'])"
   ]
  },
  {
   "cell_type": "code",
   "execution_count": 9,
   "id": "580a3b23-bc05-4f53-8c68-a8037efcfdc1",
   "metadata": {},
   "outputs": [
    {
     "data": {
      "text/plain": [
       "DatasetDict({\n",
       "    train: Dataset({\n",
       "        features: ['Consumer complaint narrative', 'labels', 'input_ids', 'attention_mask'],\n",
       "        num_rows: 185637\n",
       "    })\n",
       "    test: Dataset({\n",
       "        features: ['Consumer complaint narrative', 'labels', 'input_ids', 'attention_mask'],\n",
       "        num_rows: 61880\n",
       "    })\n",
       "})"
      ]
     },
     "execution_count": 9,
     "metadata": {},
     "output_type": "execute_result"
    }
   ],
   "source": [
    "tokenized_data"
   ]
  },
  {
   "cell_type": "code",
   "execution_count": 10,
   "id": "4dd01f79-43dd-42b3-a2f8-4a61b277a2ef",
   "metadata": {},
   "outputs": [],
   "source": [
    "tokenized_data = tokenized_data.remove_columns('Consumer complaint narrative')"
   ]
  },
  {
   "cell_type": "code",
   "execution_count": 11,
   "id": "8332e18c-684d-452f-b7f2-2ee55ed82479",
   "metadata": {},
   "outputs": [
    {
     "data": {
      "text/plain": [
       "DatasetDict({\n",
       "    train: Dataset({\n",
       "        features: ['labels', 'input_ids', 'attention_mask'],\n",
       "        num_rows: 185637\n",
       "    })\n",
       "    test: Dataset({\n",
       "        features: ['labels', 'input_ids', 'attention_mask'],\n",
       "        num_rows: 61880\n",
       "    })\n",
       "})"
      ]
     },
     "execution_count": 11,
     "metadata": {},
     "output_type": "execute_result"
    }
   ],
   "source": [
    "tokenized_data"
   ]
  },
  {
   "cell_type": "code",
   "execution_count": 12,
   "id": "0dc49e33-3060-43cc-a15e-ecf139a8278f",
   "metadata": {},
   "outputs": [],
   "source": [
    "from transformers import DataCollatorWithPadding\n",
    "\n",
    "data_collator = DataCollatorWithPadding(tokenizer=tokenizer)"
   ]
  },
  {
   "cell_type": "markdown",
   "id": "e0f9da0d-53b5-4842-974e-297611fe36df",
   "metadata": {},
   "source": [
    "#### Defining the metrics"
   ]
  },
  {
   "cell_type": "code",
   "execution_count": 13,
   "id": "40f5fb35-1c18-4deb-a729-e85461a5a105",
   "metadata": {},
   "outputs": [],
   "source": [
    "import numpy as np\n",
    "import evaluate\n",
    "\n",
    "def compute_metrics(eval_pred):\n",
    "    predictions, labels = eval_pred\n",
    "    predictions = np.argmax(predictions, axis=1)\n",
    "    result = {}\n",
    "\n",
    "    metric_f1 = load_metric(\"f1\")\n",
    "    metric_precision = load_metric(\"precision\")\n",
    "    metric_recall = load_metric(\"recall\")\n",
    "    metric_acc = load_metric(\"accuracy\")\n",
    "    \n",
    "    result[\"accuracy\"] = metric_acc.compute(predictions = predictions, references = labels)[\"accuracy\"]\n",
    "    result[\"precision\"] = metric_precision.compute(predictions = predictions, references = labels,average = 'macro')['precision']\n",
    "    result[\"recall\"] = metric_recall.compute(predictions = predictions, references = labels,average = 'macro')[\"recall\"]\n",
    "    result[\"f1\"] = metric_f1.compute(predictions = predictions, references = labels, average = 'macro')[\"f1\"]\n",
    "    \n",
    "    return result"
   ]
  },
  {
   "cell_type": "code",
   "execution_count": 14,
   "id": "3b078fd2-7eb7-4a28-84e3-a359fe9794a1",
   "metadata": {},
   "outputs": [],
   "source": [
    "id2label = {v : k for k,v in issue_mapping.items()}\n",
    "label2id = issue_mapping"
   ]
  },
  {
   "cell_type": "markdown",
   "id": "f1fc870b-b89a-4825-b868-433ee5fc1026",
   "metadata": {},
   "source": [
    "#### Loading the pre-trained model"
   ]
  },
  {
   "cell_type": "code",
   "execution_count": 15,
   "id": "8063133f-be13-4d9e-93b2-8c9966c38c07",
   "metadata": {},
   "outputs": [
    {
     "name": "stderr",
     "output_type": "stream",
     "text": [
      "Some weights of DistilBertForSequenceClassification were not initialized from the model checkpoint at distilbert/distilbert-base-uncased and are newly initialized: ['classifier.bias', 'classifier.weight', 'pre_classifier.bias', 'pre_classifier.weight']\n",
      "You should probably TRAIN this model on a down-stream task to be able to use it for predictions and inference.\n"
     ]
    }
   ],
   "source": [
    "from transformers import AutoModelForSequenceClassification, TrainingArguments, Trainer\n",
    "\n",
    "model = AutoModelForSequenceClassification.from_pretrained(\n",
    "    \"distilbert/distilbert-base-uncased\", num_labels=len(id2label), id2label=id2label, label2id=label2id\n",
    ")"
   ]
  },
  {
   "cell_type": "code",
   "execution_count": 16,
   "id": "ed2ba4a2-792f-47f9-bd07-f34427c44c34",
   "metadata": {},
   "outputs": [
    {
     "name": "stderr",
     "output_type": "stream",
     "text": [
      "Detected kernel version 3.10.0, which is below the recommended minimum of 5.5.0; this can cause the process to hang. It is recommended to upgrade the kernel to the minimum version or higher.\n"
     ]
    }
   ],
   "source": [
    "# Defining training arguments\n",
    "training_args = TrainingArguments(\n",
    "    output_dir=\"distil-bert-fintuned-issue-cfpb-complaints\",\n",
    "    learning_rate=2e-5,\n",
    "    per_device_train_batch_size=16,\n",
    "    per_device_eval_batch_size=16,\n",
    "    num_train_epochs=1,\n",
    "    weight_decay=0.01,\n",
    "    evaluation_strategy=\"epoch\",\n",
    "    save_strategy=\"epoch\",\n",
    "    load_best_model_at_end=True,\n",
    "    push_to_hub=True,\n",
    ")\n",
    "\n",
    "trainer = Trainer(\n",
    "    model=model,\n",
    "    args=training_args,\n",
    "    train_dataset=tokenized_data[\"train\"],\n",
    "    eval_dataset=tokenized_data[\"test\"],\n",
    "    tokenizer=tokenizer,\n",
    "    data_collator=data_collator,\n",
    "    compute_metrics=compute_metrics,\n",
    ")"
   ]
  },
  {
   "cell_type": "markdown",
   "id": "6683d601-0e19-4cbf-ade5-b100dbb6a533",
   "metadata": {},
   "source": [
    "#### Fine-tuning the model"
   ]
  },
  {
   "cell_type": "code",
   "execution_count": 17,
   "id": "9e3f1e85-dca4-44e2-9295-388c490c9d21",
   "metadata": {
    "scrolled": true
   },
   "outputs": [
    {
     "data": {
      "text/html": [
       "\n",
       "    <div>\n",
       "      \n",
       "      <progress value='11603' max='11603' style='width:300px; height:20px; vertical-align: middle;'></progress>\n",
       "      [11603/11603 38:53, Epoch 1/1]\n",
       "    </div>\n",
       "    <table border=\"1\" class=\"dataframe\">\n",
       "  <thead>\n",
       " <tr style=\"text-align: left;\">\n",
       "      <th>Epoch</th>\n",
       "      <th>Training Loss</th>\n",
       "      <th>Validation Loss</th>\n",
       "      <th>Accuracy</th>\n",
       "      <th>Precision</th>\n",
       "      <th>Recall</th>\n",
       "      <th>F1</th>\n",
       "    </tr>\n",
       "  </thead>\n",
       "  <tbody>\n",
       "    <tr>\n",
       "      <td>1</td>\n",
       "      <td>0.741800</td>\n",
       "      <td>0.732448</td>\n",
       "      <td>0.742130</td>\n",
       "      <td>0.531870</td>\n",
       "      <td>0.442700</td>\n",
       "      <td>0.453331</td>\n",
       "    </tr>\n",
       "  </tbody>\n",
       "</table><p>"
      ],
      "text/plain": [
       "<IPython.core.display.HTML object>"
      ]
     },
     "metadata": {},
     "output_type": "display_data"
    },
    {
     "name": "stderr",
     "output_type": "stream",
     "text": [
      "/tmp/ipykernel_29685/3516474932.py:9: FutureWarning: load_metric is deprecated and will be removed in the next major version of datasets. Use 'evaluate.load' instead, from the new library 🤗 Evaluate: https://huggingface.co/docs/evaluate\n",
      "  metric_f1 = load_metric(\"f1\")\n",
      "/home/kudupudi.n/.conda/envs/pytorch_env/lib/python3.10/site-packages/datasets/load.py:753: FutureWarning: The repository for f1 contains custom code which must be executed to correctly load the metric. You can inspect the repository content at https://raw.githubusercontent.com/huggingface/datasets/2.17.1/metrics/f1/f1.py\n",
      "You can avoid this message in future by passing the argument `trust_remote_code=True`.\n",
      "Passing `trust_remote_code=True` will be mandatory to load this metric from the next major release of `datasets`.\n",
      "  warnings.warn(\n",
      "/home/kudupudi.n/.conda/envs/pytorch_env/lib/python3.10/site-packages/datasets/load.py:753: FutureWarning: The repository for precision contains custom code which must be executed to correctly load the metric. You can inspect the repository content at https://raw.githubusercontent.com/huggingface/datasets/2.17.1/metrics/precision/precision.py\n",
      "You can avoid this message in future by passing the argument `trust_remote_code=True`.\n",
      "Passing `trust_remote_code=True` will be mandatory to load this metric from the next major release of `datasets`.\n",
      "  warnings.warn(\n",
      "/home/kudupudi.n/.conda/envs/pytorch_env/lib/python3.10/site-packages/datasets/load.py:753: FutureWarning: The repository for recall contains custom code which must be executed to correctly load the metric. You can inspect the repository content at https://raw.githubusercontent.com/huggingface/datasets/2.17.1/metrics/recall/recall.py\n",
      "You can avoid this message in future by passing the argument `trust_remote_code=True`.\n",
      "Passing `trust_remote_code=True` will be mandatory to load this metric from the next major release of `datasets`.\n",
      "  warnings.warn(\n",
      "/home/kudupudi.n/.conda/envs/pytorch_env/lib/python3.10/site-packages/datasets/load.py:753: FutureWarning: The repository for accuracy contains custom code which must be executed to correctly load the metric. You can inspect the repository content at https://raw.githubusercontent.com/huggingface/datasets/2.17.1/metrics/accuracy/accuracy.py\n",
      "You can avoid this message in future by passing the argument `trust_remote_code=True`.\n",
      "Passing `trust_remote_code=True` will be mandatory to load this metric from the next major release of `datasets`.\n",
      "  warnings.warn(\n",
      "/home/kudupudi.n/.conda/envs/pytorch_env/lib/python3.10/site-packages/sklearn/metrics/_classification.py:1469: UndefinedMetricWarning: Precision is ill-defined and being set to 0.0 in labels with no predicted samples. Use `zero_division` parameter to control this behavior.\n",
      "  _warn_prf(average, modifier, msg_start, len(result))\n"
     ]
    },
    {
     "data": {
      "text/plain": [
       "TrainOutput(global_step=11603, training_loss=0.8782807422241117, metrics={'train_runtime': 2334.134, 'train_samples_per_second': 79.531, 'train_steps_per_second': 4.971, 'total_flos': 2.460093697119744e+16, 'train_loss': 0.8782807422241117, 'epoch': 1.0})"
      ]
     },
     "execution_count": 17,
     "metadata": {},
     "output_type": "execute_result"
    }
   ],
   "source": [
    "trainer.train()"
   ]
  },
  {
   "cell_type": "markdown",
   "id": "b2f8f1c8-8ea1-4fc9-a65c-417c4150c4dd",
   "metadata": {},
   "source": [
    "#### Getting the predictions"
   ]
  },
  {
   "cell_type": "code",
   "execution_count": 18,
   "id": "ba1fe347-89c3-4e55-a066-ae4fbca716d8",
   "metadata": {
    "scrolled": true
   },
   "outputs": [
    {
     "data": {
      "text/html": [],
      "text/plain": [
       "<IPython.core.display.HTML object>"
      ]
     },
     "metadata": {},
     "output_type": "display_data"
    },
    {
     "name": "stderr",
     "output_type": "stream",
     "text": [
      "/home/kudupudi.n/.conda/envs/pytorch_env/lib/python3.10/site-packages/datasets/load.py:753: FutureWarning: The repository for f1 contains custom code which must be executed to correctly load the metric. You can inspect the repository content at https://raw.githubusercontent.com/huggingface/datasets/2.17.1/metrics/f1/f1.py\n",
      "You can avoid this message in future by passing the argument `trust_remote_code=True`.\n",
      "Passing `trust_remote_code=True` will be mandatory to load this metric from the next major release of `datasets`.\n",
      "  warnings.warn(\n",
      "/home/kudupudi.n/.conda/envs/pytorch_env/lib/python3.10/site-packages/datasets/load.py:753: FutureWarning: The repository for precision contains custom code which must be executed to correctly load the metric. You can inspect the repository content at https://raw.githubusercontent.com/huggingface/datasets/2.17.1/metrics/precision/precision.py\n",
      "You can avoid this message in future by passing the argument `trust_remote_code=True`.\n",
      "Passing `trust_remote_code=True` will be mandatory to load this metric from the next major release of `datasets`.\n",
      "  warnings.warn(\n",
      "/home/kudupudi.n/.conda/envs/pytorch_env/lib/python3.10/site-packages/datasets/load.py:753: FutureWarning: The repository for recall contains custom code which must be executed to correctly load the metric. You can inspect the repository content at https://raw.githubusercontent.com/huggingface/datasets/2.17.1/metrics/recall/recall.py\n",
      "You can avoid this message in future by passing the argument `trust_remote_code=True`.\n",
      "Passing `trust_remote_code=True` will be mandatory to load this metric from the next major release of `datasets`.\n",
      "  warnings.warn(\n",
      "/home/kudupudi.n/.conda/envs/pytorch_env/lib/python3.10/site-packages/datasets/load.py:753: FutureWarning: The repository for accuracy contains custom code which must be executed to correctly load the metric. You can inspect the repository content at https://raw.githubusercontent.com/huggingface/datasets/2.17.1/metrics/accuracy/accuracy.py\n",
      "You can avoid this message in future by passing the argument `trust_remote_code=True`.\n",
      "Passing `trust_remote_code=True` will be mandatory to load this metric from the next major release of `datasets`.\n",
      "  warnings.warn(\n",
      "/home/kudupudi.n/.conda/envs/pytorch_env/lib/python3.10/site-packages/sklearn/metrics/_classification.py:1469: UndefinedMetricWarning: Precision is ill-defined and being set to 0.0 in labels with no predicted samples. Use `zero_division` parameter to control this behavior.\n",
      "  _warn_prf(average, modifier, msg_start, len(result))\n"
     ]
    }
   ],
   "source": [
    "predictions = trainer.predict(tokenized_data['test'])"
   ]
  },
  {
   "cell_type": "code",
   "execution_count": 20,
   "id": "55887a6e-b1ec-4b9f-9f98-124ac2a8f647",
   "metadata": {},
   "outputs": [
    {
     "data": {
      "text/plain": [
       "CommitInfo(commit_url='https://huggingface.co/Mahesh9/distil-bert-fintuned-issue-cfpb-complaints/commit/c2d64d57bb7eaae79de58bbbfc5ef393cd091c2e', commit_message='Mahesh9/distil-bert-fintuned-issue-cfpb-complaints', commit_description='', oid='c2d64d57bb7eaae79de58bbbfc5ef393cd091c2e', pr_url=None, pr_revision=None, pr_num=None)"
      ]
     },
     "execution_count": 20,
     "metadata": {},
     "output_type": "execute_result"
    }
   ],
   "source": [
    "#Pushing the model to hub\n",
    "trainer.push_to_hub(\"Mahesh9/distil-bert-fintuned-issue-cfpb-complaints\")"
   ]
  },
  {
   "cell_type": "code",
   "execution_count": 21,
   "id": "acf12dc2-39df-4736-abc1-93ba91652af5",
   "metadata": {},
   "outputs": [],
   "source": [
    "predicted_categories = np.argmax(predictions.predictions, axis=-1)\n",
    "true_categories = [label2id[label] for label in dataset[\"test\"][\"Issue\"]]"
   ]
  },
  {
   "cell_type": "markdown",
   "id": "5688e453-29a9-41d4-92cb-7e603a725cdc",
   "metadata": {},
   "source": [
    "#### Classification report"
   ]
  },
  {
   "cell_type": "code",
   "execution_count": 23,
   "id": "bc8b05da-d854-488f-906b-7036f1371104",
   "metadata": {},
   "outputs": [
    {
     "name": "stdout",
     "output_type": "stream",
     "text": [
      "                                                                                  precision    recall  f1-score   support\n",
      "\n",
      "                                               Attempts to collect debt not owed       0.50      0.60      0.54      1381\n",
      "                                                              Closing an account       0.66      0.58      0.62       521\n",
      "                                                            Closing your account       0.49      0.67      0.56       191\n",
      "                         Credit monitoring or identity theft protection services       1.00      0.28      0.44       115\n",
      "                                            Dealing with your lender or servicer       0.96      0.95      0.96       314\n",
      "                                              False statements or representation       0.00      0.00      0.00       202\n",
      "                                                                Fees or interest       0.56      0.55      0.56       186\n",
      "                                                           Getting a credit card       0.65      0.14      0.23       120\n",
      "                          Identity theft protection or other monitoring services       0.00      0.00      0.00         7\n",
      "                                                     Improper use of your report       0.82      0.85      0.84     15434\n",
      "                                            Incorrect information on your report       0.78      0.85      0.81     21807\n",
      "                                                             Managing an account       0.67      0.80      0.73      1826\n",
      "                                                      Managing the loan or lease       0.63      0.37      0.46       126\n",
      "                                                              Opening an account       0.64      0.59      0.61       135\n",
      "                                              Other features, terms, or problems       0.38      0.05      0.09       162\n",
      "                                          Problem caused by your funds being low       0.45      0.52      0.48       215\n",
      "                                                    Problem when making payments       0.48      0.59      0.53       189\n",
      "                   Problem with a company's investigation into an existing issue       0.00      0.00      0.00        53\n",
      "                 Problem with a company's investigation into an existing problem       0.61      0.39      0.48      5117\n",
      "Problem with a credit reporting company's investigation into an existing problem       0.67      0.67      0.67     11522\n",
      "                    Problem with a lender or other company charging your account       0.43      0.01      0.02       364\n",
      "                                 Problem with a purchase shown on your statement       0.66      0.81      0.73       841\n",
      "                             Took or threatened to take negative or legal action       0.00      0.00      0.00       184\n",
      "                                Unable to get your credit report or credit score       0.65      0.43      0.52       290\n",
      "                                                 Written notification about debt       0.59      0.39      0.47       578\n",
      "\n",
      "                                                                        accuracy                           0.74     61880\n",
      "                                                                       macro avg       0.53      0.44      0.45     61880\n",
      "                                                                    weighted avg       0.73      0.74      0.73     61880\n",
      "\n"
     ]
    },
    {
     "name": "stderr",
     "output_type": "stream",
     "text": [
      "/home/kudupudi.n/.conda/envs/pytorch_env/lib/python3.10/site-packages/sklearn/metrics/_classification.py:1469: UndefinedMetricWarning: Precision and F-score are ill-defined and being set to 0.0 in labels with no predicted samples. Use `zero_division` parameter to control this behavior.\n",
      "  _warn_prf(average, modifier, msg_start, len(result))\n",
      "/home/kudupudi.n/.conda/envs/pytorch_env/lib/python3.10/site-packages/sklearn/metrics/_classification.py:1469: UndefinedMetricWarning: Precision and F-score are ill-defined and being set to 0.0 in labels with no predicted samples. Use `zero_division` parameter to control this behavior.\n",
      "  _warn_prf(average, modifier, msg_start, len(result))\n",
      "/home/kudupudi.n/.conda/envs/pytorch_env/lib/python3.10/site-packages/sklearn/metrics/_classification.py:1469: UndefinedMetricWarning: Precision and F-score are ill-defined and being set to 0.0 in labels with no predicted samples. Use `zero_division` parameter to control this behavior.\n",
      "  _warn_prf(average, modifier, msg_start, len(result))\n"
     ]
    }
   ],
   "source": [
    "report = classification_report(true_categories, predicted_categories, target_names=product_categories)\n",
    "print(report)"
   ]
  },
  {
   "cell_type": "code",
   "execution_count": 24,
   "id": "b3b390f4-14ef-4be3-9cd0-885d69bdafc8",
   "metadata": {},
   "outputs": [],
   "source": [
    "# Saving the results\n",
    "import pandas as pd\n",
    "\n",
    "true_labels_text = [id2label[label] for label in true_categories]\n",
    "predicted_labels_text = [id2label[label] for label in predicted_categories]\n",
    "\n",
    "results_df = pd.DataFrame({\n",
    "    'True Labels': true_labels_text,\n",
    "    'Predicted Labels': predicted_labels_text\n",
    "})\n",
    "\n",
    "original_texts = [tokenizer.decode(ids, skip_special_tokens=True) for ids in tokenized_data[\"test\"][\"input_ids\"]]\n",
    "results_df['Complaint Narrative'] = original_texts"
   ]
  },
  {
   "cell_type": "code",
   "execution_count": 25,
   "id": "cc2584eb-cc99-4526-9eba-46902ce94fe0",
   "metadata": {},
   "outputs": [],
   "source": [
    "# Dumping the saved results into a csv\n",
    "results_df.to_csv('distil-bert-fintuned-issue-cfpb-complaints/saved_results/model_predictions_and_labels.csv', index=False)"
   ]
  }
 ],
 "metadata": {
  "kernelspec": {
   "display_name": "Python 3 (ipykernel)",
   "language": "python",
   "name": "python3"
  },
  "language_info": {
   "codemirror_mode": {
    "name": "ipython",
    "version": 3
   },
   "file_extension": ".py",
   "mimetype": "text/x-python",
   "name": "python",
   "nbconvert_exporter": "python",
   "pygments_lexer": "ipython3",
   "version": "3.9.19"
  }
 },
 "nbformat": 4,
 "nbformat_minor": 5
}
